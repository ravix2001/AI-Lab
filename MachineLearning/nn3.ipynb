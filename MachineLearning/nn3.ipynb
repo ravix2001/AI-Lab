{
 "cells": [
  {
   "cell_type": "code",
   "execution_count": 1,
   "metadata": {},
   "outputs": [],
   "source": [
    "import matplotlib.pyplot as plt\n",
    "import numpy as np"
   ]
  },
  {
   "cell_type": "code",
   "execution_count": 2,
   "metadata": {},
   "outputs": [
    {
     "name": "stdout",
     "output_type": "stream",
     "text": [
      "[[ 5 -5]]\n",
      "(1, 2)\n"
     ]
    }
   ],
   "source": [
    "X = np.array([[5, -5]])\n",
    "print(X)\n",
    "print(X.shape)\n",
    "y = 0.5"
   ]
  },
  {
   "cell_type": "code",
   "execution_count": 3,
   "metadata": {},
   "outputs": [
    {
     "name": "stdout",
     "output_type": "stream",
     "text": [
      "[[-0.06325096  0.65876837]\n",
      " [-0.54075848 -0.08716461]]\n",
      "[[0.5064205 ]\n",
      " [0.48307399]]\n",
      "(2, 1)\n"
     ]
    }
   ],
   "source": [
    "W = np.random.randn(2, 2)  # 2x2 matrix for W11, W12, W21, W22\n",
    "Wh = np.random.randn(2, 1)  # 2x1 vector for Wh1, Wh2\n",
    "\n",
    "print(W)\n",
    "print(Wh)\n",
    "print(Wh.shape)"
   ]
  },
  {
   "cell_type": "code",
   "execution_count": 4,
   "metadata": {},
   "outputs": [
    {
     "name": "stdout",
     "output_type": "stream",
     "text": [
      "[[2.38753762 3.72966492]]\n",
      "(1, 2)\n"
     ]
    }
   ],
   "source": [
    "h = np.dot(X, W)    # Matrix multiplication\n",
    "print(h)\n",
    "print(h.shape)"
   ]
  },
  {
   "cell_type": "code",
   "execution_count": 5,
   "metadata": {},
   "outputs": [
    {
     "name": "stdout",
     "output_type": "stream",
     "text": [
      "[[11.98926888 18.72890097]]\n",
      "(1, 2)\n"
     ]
    }
   ],
   "source": [
    "epochs = 20\n",
    "alpha = 0.1\n",
    "errorList = []\n",
    "wList = []\n",
    "\n",
    "for epoch in range(epochs):\n",
    "    # Forward Pass\n",
    "    y_out = np.dot(h, Wh)\n",
    "\n",
    "    # Compute the Error\n",
    "    error = np.square((y - y_out)).item()   # Convert array to scalar\n",
    "    errorList.append(error)\n",
    "\n",
    "    # Compute the gradient of Error wrt W\n",
    "    gradient = -2 * (y - y_out) * h\n",
    "\n",
    "    # other 4 gradients remaining\n",
    "\n",
    "print(gradient)\n",
    "print(gradient.shape)"
   ]
  },
  {
   "cell_type": "code",
   "execution_count": 6,
   "metadata": {},
   "outputs": [
    {
     "data": {
      "text/plain": [
       "Text(0.5, 1.0, 'Epochs vs Error')"
      ]
     },
     "execution_count": 6,
     "metadata": {},
     "output_type": "execute_result"
    },
    {
     "data": {
      "image/png": "[encoded data removed]",
      "text/plain": [
       "<Figure size 640x480 with 1 Axes>"
      ]
     },
     "metadata": {},
     "output_type": "display_data"
    }
   ],
   "source": [
    "plt.plot(range(epochs), errorList)\n",
    "plt.xlabel(\"Epochs\")\n",
    "plt.ylabel(\"Error\")\n",
    "plt.title(\"Epochs vs Error\")"
   ]
  },
  {
   "cell_type": "code",
   "execution_count": 7,
   "metadata": {},
   "outputs": [
    {
     "name": "stdout",
     "output_type": "stream",
     "text": [
      "[[-2.16786197  1.24773948]]\n"
     ]
    }
   ],
   "source": [
    "def output(h, W):\n",
    "    return np.dot(h, W)\n",
    "\n",
    "print(output(h, W))"
   ]
  }
 ],
 "metadata": {
  "kernelspec": {
   "display_name": "base",
   "language": "python",
   "name": "python3"
  },
  "language_info": {
   "codemirror_mode": {
    "name": "ipython",
    "version": 3
   },
   "file_extension": ".py",
   "mimetype": "text/x-python",
   "name": "python",
   "nbconvert_exporter": "python",
   "pygments_lexer": "ipython3",
   "version": "3.12.7"
  }
 },
 "nbformat": 4,
 "nbformat_minor": 2
}
